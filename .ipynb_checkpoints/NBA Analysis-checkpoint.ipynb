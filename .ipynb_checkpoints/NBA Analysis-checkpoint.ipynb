{
 "cells": [
  {
   "cell_type": "markdown",
   "metadata": {},
   "source": [
    "# Predicting NBA Game Outcomes Based on a Single Team's Game Stats"
   ]
  },
  {
   "cell_type": "markdown",
   "metadata": {},
   "source": [
    "This notebook serves as my introduction to Machine Learning and Data Science. It can also serve as a reference for future learners. Common machine learning libraries (Pandas, Numpy, Scikit-Learn) are used throughout the project. A project like this is perfectly suitable for beginners because there is massive data on NBA games readily available."
   ]
  },
  {
   "cell_type": "markdown",
   "metadata": {},
   "source": [
    "\n",
    "## The Game Plan  "
   ]
  },
  {
   "cell_type": "markdown",
   "metadata": {},
   "source": [
    "Lets say we want to create a model that when given particular stats for a game, it can predict whether that team won or lost by only using the stats of the game for that team. Would it be more accurate to use all that stats available or just specific ones?\n",
    "\n",
    "###### What we will intend to do is:\n",
    "1. Scrape the Data: \n",
    "NBA.com has data of all games dating back to 1983. Scraping the data with Selenium or BeautifulSoup is an option, but would be a great pain and would take a large amount of time (a data scientist's biggest dilemma). Luckliy, there is an [NBA.com API Client](https://github.com/swar/nba_api) made available by some wonderful Github contributors.\n",
    "\n",
    "2. Clean and Analyze the Data:\n",
    "This will be a relatively large data set that will probably contain null values and raw output that needs parsing. There are several ways at which you may go about this (Excel, Python Libraries, etc).\n",
    "\n",
    "3. Create and Test the Model:\n",
    "The type of model you choose will vary and depends on the features of your data and of the output you're trying to predict.\n"
   ]
  },
  {
   "cell_type": "markdown",
   "metadata": {},
   "source": [
    "### Scraping the Data\n",
    "After installing the nba_api module and some browsing of the [Documentation](https://github.com/swar/nba_api/blob/master/docs/table_of_contents.md), you can see that the module has 'teams' and 'leaguegamefinder' functions that will help us gather historical game data:"
   ]
  },
  {
   "cell_type": "code",
   "execution_count": 1,
   "metadata": {
    "scrolled": true
   },
   "outputs": [],
   "source": [
    "import pandas as pd\n",
    "\n",
    "from nba_api.stats.static import teams\n",
    "from nba_api.stats.endpoints import leaguegamefinder\n",
    "\n",
    "nba_teams = teams.get_teams() # Dictionary of NBA Teams and various attributes\n",
    "team_ids = []\n",
    "\n",
    "for i in nba_teams:\n",
    "    team_ids.append(i['id']) # Appending team IDs to list\n",
    "    \n",
    "#for i in team_ids:\n",
    "    #gamefinder = leaguegamefinder.LeagueGameFinder(team_id_nullable=i) # Retrieve Historical Game Data\n",
    "    #games = gamefinder.get_data_frames()[0]\n",
    "    #games.to_csv('games.csv', mode='a')"
   ]
  },
  {
   "cell_type": "markdown",
   "metadata": {},
   "source": [
    "You should now have a csv file of all games played with their stats dating all the way back to 1983 (you may have to split the retrieval commands because NBA.com times you out after so many requests):"
   ]
  },
  {
   "cell_type": "code",
   "execution_count": 2,
   "metadata": {
    "scrolled": true
   },
   "outputs": [
    {
     "name": "stdout",
     "output_type": "stream",
     "text": [
      "       SEASON_ID     TEAM_ID TEAM_ABBREVIATION          TEAM_NAME   GAME_ID  \\\n",
      "0          42021  1610612737               ATL      Atlanta Hawks  42100105   \n",
      "1          42021  1610612737               ATL      Atlanta Hawks  42100104   \n",
      "2          42021  1610612737               ATL      Atlanta Hawks  42100103   \n",
      "3          42021  1610612737               ATL      Atlanta Hawks  42100102   \n",
      "4          42021  1610612737               ATL      Atlanta Hawks  42100101   \n",
      "...          ...         ...               ...                ...       ...   \n",
      "99850      21988  1610612766               CHH  Charlotte Hornets  28800062   \n",
      "99851      21988  1610612766               CHH  Charlotte Hornets  28800052   \n",
      "99852      21988  1610612766               CHH  Charlotte Hornets  28800024   \n",
      "99853      21988  1610612766               CHH  Charlotte Hornets  28800015   \n",
      "99854      21988  1610612766               CHH  Charlotte Hornets  28800008   \n",
      "\n",
      "        GAME_DATE      MATCHUP WL  MIN  PTS  ...  FT_PCT  OREB  DREB   REB  \\\n",
      "0       4/26/2022    ATL @ MIA  L  240   94  ...   0.857  12.0  30.0  42.0   \n",
      "1       4/24/2022  ATL vs. MIA  L  240   86  ...   0.550  11.0  30.0  41.0   \n",
      "2       4/22/2022  ATL vs. MIA  W  240  111  ...   0.810   5.0  31.0  36.0   \n",
      "3       4/19/2022    ATL @ MIA  L  240  105  ...   0.786   7.0  33.0  40.0   \n",
      "4       4/17/2022    ATL @ MIA  L  240   91  ...   0.852   8.0  30.0  38.0   \n",
      "...           ...          ... ..  ...  ...  ...     ...   ...   ...   ...   \n",
      "99850  11/12/1988    CHH @ ATL  L  238  111  ...   0.813  14.0  21.0  35.0   \n",
      "99851  11/11/1988    CHH @ WAS  L  240   87  ...   0.760  11.0  32.0  43.0   \n",
      "99852   11/8/1988  CHH vs. LAC  W  240  117  ...   0.738  17.0  38.0  55.0   \n",
      "99853   11/5/1988    CHH @ DET  L  240   85  ...   1.000  21.0  19.0  40.0   \n",
      "99854   11/4/1988  CHH vs. CLE  L  240   93  ...   0.650   7.0  24.0  31.0   \n",
      "\n",
      "       AST   STL  BLK  TOV  PF  PLUS_MINUS  \n",
      "0       15   8.0    2   19  22        -3.0  \n",
      "1       18   2.0    3   15  21       -24.0  \n",
      "2       23   5.0    3   11  20         1.0  \n",
      "3       21   6.0    2   19  26       -10.0  \n",
      "4       16   8.0    2   18  19       -24.0  \n",
      "...    ...   ...  ...  ...  ..         ...  \n",
      "99850   30  12.0    2   19  26         NaN  \n",
      "99851   22   9.0    1   23  26         NaN  \n",
      "99852   28   9.0    1   17  31         NaN  \n",
      "99853   18   8.0    6   11  21         NaN  \n",
      "99854   27   8.0    1   24  25         NaN  \n",
      "\n",
      "[99855 rows x 28 columns]\n"
     ]
    }
   ],
   "source": [
    "df = pd.read_csv('games.csv')\n",
    "print(df)"
   ]
  },
  {
   "cell_type": "markdown",
   "metadata": {},
   "source": [
    "### Cleaning and Analyzing the Data"
   ]
  },
  {
   "cell_type": "markdown",
   "metadata": {},
   "source": [
    "To make the model feasible, I decided to only include data starting from the last 10 years (beginning in 2012). I also normalized the data on a scale of 0-1 as a personal preference. To do this, I used [Excel VBA Scripts](https://docs.microsoft.com/en-us/office/vba/library-reference/concepts/getting-started-with-vba-in-office), as well as the libraries available in Anaconda. You can manually do this in however manner you please.\n",
    "\n",
    "You will also want to split your training and test data. There are several methods in which you can do it. I did an 80-20% split using Excel VBA, the output is two csv files: 'nba_train.csv' and 'nba_test.csv'."
   ]
  },
  {
   "cell_type": "markdown",
   "metadata": {},
   "source": [
    "#### FINALLY, Now here comes the fun parts - Machine Learning at its finest:\n",
    "\n",
    "To initiate the Exploratory Data Analysis, I used [Speedml](https://pythonhosted.org/speedml/) to create some figures in order to visualize which features are most important. Let's initialize it:"
   ]
  },
  {
   "cell_type": "code",
   "execution_count": 4,
   "metadata": {},
   "outputs": [
    {
     "data": {
      "text/html": [
       "<div>\n",
       "<style scoped>\n",
       "    .dataframe tbody tr th:only-of-type {\n",
       "        vertical-align: middle;\n",
       "    }\n",
       "\n",
       "    .dataframe tbody tr th {\n",
       "        vertical-align: top;\n",
       "    }\n",
       "\n",
       "    .dataframe thead th {\n",
       "        text-align: right;\n",
       "    }\n",
       "</style>\n",
       "<table border=\"1\" class=\"dataframe\">\n",
       "  <thead>\n",
       "    <tr style=\"text-align: right;\">\n",
       "      <th></th>\n",
       "      <th>Unnamed: 0</th>\n",
       "      <th>P0S</th>\n",
       "      <th>FGM</th>\n",
       "      <th>FGA</th>\n",
       "      <th>FG_PC0</th>\n",
       "      <th>FG3M</th>\n",
       "      <th>FG3A</th>\n",
       "      <th>FG3_PC0</th>\n",
       "      <th>F0M</th>\n",
       "      <th>F0A</th>\n",
       "      <th>F0_PC0</th>\n",
       "      <th>0REB</th>\n",
       "      <th>DREB</th>\n",
       "      <th>REB</th>\n",
       "      <th>AS0</th>\n",
       "      <th>S0L</th>\n",
       "      <th>BLK</th>\n",
       "      <th>00V</th>\n",
       "    </tr>\n",
       "  </thead>\n",
       "  <tbody>\n",
       "    <tr>\n",
       "      <th>0</th>\n",
       "      <td>0</td>\n",
       "      <td>0.505376</td>\n",
       "      <td>0.418919</td>\n",
       "      <td>0.544118</td>\n",
       "      <td>0.503001</td>\n",
       "      <td>0.275862</td>\n",
       "      <td>0.357143</td>\n",
       "      <td>0.1600</td>\n",
       "      <td>0.393443</td>\n",
       "      <td>0.3500</td>\n",
       "      <td>0.857</td>\n",
       "      <td>0.272727</td>\n",
       "      <td>0.535714</td>\n",
       "      <td>0.518519</td>\n",
       "      <td>0.288462</td>\n",
       "      <td>0.296296</td>\n",
       "      <td>0.086957</td>\n",
       "      <td>0.475</td>\n",
       "    </tr>\n",
       "    <tr>\n",
       "      <th>1</th>\n",
       "      <td>1</td>\n",
       "      <td>0.462366</td>\n",
       "      <td>0.405405</td>\n",
       "      <td>0.551471</td>\n",
       "      <td>0.480192</td>\n",
       "      <td>0.517241</td>\n",
       "      <td>0.600000</td>\n",
       "      <td>0.1785</td>\n",
       "      <td>0.180328</td>\n",
       "      <td>0.2500</td>\n",
       "      <td>0.550</td>\n",
       "      <td>0.250000</td>\n",
       "      <td>0.535714</td>\n",
       "      <td>0.506173</td>\n",
       "      <td>0.346154</td>\n",
       "      <td>0.074074</td>\n",
       "      <td>0.130435</td>\n",
       "      <td>0.375</td>\n",
       "    </tr>\n",
       "    <tr>\n",
       "      <th>2</th>\n",
       "      <td>2</td>\n",
       "      <td>0.596774</td>\n",
       "      <td>0.554054</td>\n",
       "      <td>0.588235</td>\n",
       "      <td>0.615846</td>\n",
       "      <td>0.413793</td>\n",
       "      <td>0.457143</td>\n",
       "      <td>0.1875</td>\n",
       "      <td>0.278689</td>\n",
       "      <td>0.2625</td>\n",
       "      <td>0.810</td>\n",
       "      <td>0.113636</td>\n",
       "      <td>0.553571</td>\n",
       "      <td>0.444444</td>\n",
       "      <td>0.442308</td>\n",
       "      <td>0.185185</td>\n",
       "      <td>0.130435</td>\n",
       "      <td>0.275</td>\n",
       "    </tr>\n",
       "    <tr>\n",
       "      <th>3</th>\n",
       "      <td>3</td>\n",
       "      <td>0.564516</td>\n",
       "      <td>0.554054</td>\n",
       "      <td>0.639706</td>\n",
       "      <td>0.565426</td>\n",
       "      <td>0.413793</td>\n",
       "      <td>0.571429</td>\n",
       "      <td>0.1500</td>\n",
       "      <td>0.180328</td>\n",
       "      <td>0.1750</td>\n",
       "      <td>0.786</td>\n",
       "      <td>0.159091</td>\n",
       "      <td>0.589286</td>\n",
       "      <td>0.493827</td>\n",
       "      <td>0.403846</td>\n",
       "      <td>0.222222</td>\n",
       "      <td>0.086957</td>\n",
       "      <td>0.475</td>\n",
       "    </tr>\n",
       "    <tr>\n",
       "      <th>4</th>\n",
       "      <td>4</td>\n",
       "      <td>0.489247</td>\n",
       "      <td>0.391892</td>\n",
       "      <td>0.551471</td>\n",
       "      <td>0.464586</td>\n",
       "      <td>0.344828</td>\n",
       "      <td>0.514286</td>\n",
       "      <td>0.1390</td>\n",
       "      <td>0.377049</td>\n",
       "      <td>0.3375</td>\n",
       "      <td>0.852</td>\n",
       "      <td>0.181818</td>\n",
       "      <td>0.535714</td>\n",
       "      <td>0.469136</td>\n",
       "      <td>0.307692</td>\n",
       "      <td>0.296296</td>\n",
       "      <td>0.086957</td>\n",
       "      <td>0.450</td>\n",
       "    </tr>\n",
       "  </tbody>\n",
       "</table>\n",
       "</div>"
      ],
      "text/plain": [
       "   Unnamed: 0       P0S       FGM       FGA    FG_PC0      FG3M      FG3A  \\\n",
       "0           0  0.505376  0.418919  0.544118  0.503001  0.275862  0.357143   \n",
       "1           1  0.462366  0.405405  0.551471  0.480192  0.517241  0.600000   \n",
       "2           2  0.596774  0.554054  0.588235  0.615846  0.413793  0.457143   \n",
       "3           3  0.564516  0.554054  0.639706  0.565426  0.413793  0.571429   \n",
       "4           4  0.489247  0.391892  0.551471  0.464586  0.344828  0.514286   \n",
       "\n",
       "   FG3_PC0       F0M     F0A  F0_PC0      0REB      DREB       REB       AS0  \\\n",
       "0   0.1600  0.393443  0.3500   0.857  0.272727  0.535714  0.518519  0.288462   \n",
       "1   0.1785  0.180328  0.2500   0.550  0.250000  0.535714  0.506173  0.346154   \n",
       "2   0.1875  0.278689  0.2625   0.810  0.113636  0.553571  0.444444  0.442308   \n",
       "3   0.1500  0.180328  0.1750   0.786  0.159091  0.589286  0.493827  0.403846   \n",
       "4   0.1390  0.377049  0.3375   0.852  0.181818  0.535714  0.469136  0.307692   \n",
       "\n",
       "        S0L       BLK    00V  \n",
       "0  0.296296  0.086957  0.475  \n",
       "1  0.074074  0.130435  0.375  \n",
       "2  0.185185  0.130435  0.275  \n",
       "3  0.222222  0.086957  0.475  \n",
       "4  0.296296  0.086957  0.450  "
      ]
     },
     "execution_count": 4,
     "metadata": {},
     "output_type": "execute_result"
    }
   ],
   "source": [
    "from speedml import Speedml\n",
    "sml = Speedml('nba_train.csv', 'nba_test.csv',target='Outcome')\n",
    "\n",
    "sml.train.head() # Preview first 5 lines of training dating"
   ]
  },
  {
   "cell_type": "markdown",
   "metadata": {},
   "source": [
    "Now let's create a heatmap that displays feature correlation (it should by default appear in tkinter:"
   ]
  },
  {
   "cell_type": "code",
   "execution_count": null,
   "metadata": {},
   "outputs": [],
   "source": [
    "sml.plot.correlate()"
   ]
  },
  {
   "attachments": {
    "correlation%20map.png": {
     "image/png": "[encoded data removed]"
    }
   },
   "cell_type": "markdown",
   "metadata": {},
   "source": [
    "![correlation%20map.png](attachment:correlation%20map.png)"
   ]
  },
  {
   "cell_type": "code",
   "execution_count": null,
   "metadata": {},
   "outputs": [],
   "source": [
    "from sklearn.model_selection import train_test_split\n",
    "\n",
    "df = pd.read_csv('games.csv')\n",
    "\n",
    "X = df.drop(['WL'], axis=1).values\n",
    "y = df['WL'].values\n",
    "\n",
    "X_train, X_test, y_train, y_test = train_test_split(X, y, test_size=0.2)"
   ]
  }
 ],
 "metadata": {
  "celltoolbar": "Raw Cell Format",
  "interpreter": {
   "hash": "369f2c481f4da34e4445cda3fffd2e751bd1c4d706f27375911949ba6bb62e1c"
  },
  "kernelspec": {
   "display_name": "Python 3 (ipykernel)",
   "language": "python",
   "name": "python3"
  },
  "language_info": {
   "codemirror_mode": {
    "name": "ipython",
    "version": 3
   },
   "file_extension": ".py",
   "mimetype": "text/x-python",
   "name": "python",
   "nbconvert_exporter": "python",
   "pygments_lexer": "ipython3",
   "version": "3.9.12"
  }
 },
 "nbformat": 4,
 "nbformat_minor": 2
}
